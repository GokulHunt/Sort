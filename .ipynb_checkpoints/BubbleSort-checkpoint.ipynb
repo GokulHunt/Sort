{
 "cells": [
  {
   "cell_type": "code",
   "execution_count": 3,
   "metadata": {},
   "outputs": [],
   "source": [
    "def bubbleSort(data):\n",
    "    '''\n",
    "    This function implements Bubble Sort. It sorts the data by swapping the adjacent elements \n",
    "    that are not in correct order.\n",
    "\n",
    "    On average Bubble sort takes constant space and quadratic time. But if the data is already sorted, \n",
    "    bubble sort works in linear time.\n",
    "\n",
    "    '''\n",
    "    for i in range(len(data)):\n",
    "        for j in range(1, len(data)):\n",
    "\n",
    "            if data[j-1] > data[j]:\n",
    "                data[j-1], data[j] = data[j], data[j-1]\n",
    "    return data"
   ]
  },
  {
   "cell_type": "code",
   "execution_count": 6,
   "metadata": {},
   "outputs": [
    {
     "name": "stdout",
     "output_type": "stream",
     "text": [
      "[1, 2, 4, 5, 8, 10, 13, 20, 39]\n"
     ]
    }
   ],
   "source": [
    "res = bubbleSort([1, 8, 10, 4, 2, 5, 20, 39, 13])\n",
    "print(res)"
   ]
  },
  {
   "cell_type": "code",
   "execution_count": 7,
   "metadata": {},
   "outputs": [
    {
     "name": "stdout",
     "output_type": "stream",
     "text": [
      "[1, 85, 99, 100, 105, 199]\n"
     ]
    }
   ],
   "source": [
    "res = bubbleSort([1, 100, 199, 99, 85, 105])\n",
    "print(res)"
   ]
  },
  {
   "cell_type": "code",
   "execution_count": null,
   "metadata": {},
   "outputs": [],
   "source": []
  }
 ],
 "metadata": {
  "kernelspec": {
   "display_name": "Python 3",
   "language": "python",
   "name": "python3"
  },
  "language_info": {
   "codemirror_mode": {
    "name": "ipython",
    "version": 3
   },
   "file_extension": ".py",
   "mimetype": "text/x-python",
   "name": "python",
   "nbconvert_exporter": "python",
   "pygments_lexer": "ipython3",
   "version": "3.8.3"
  }
 },
 "nbformat": 4,
 "nbformat_minor": 2
}
