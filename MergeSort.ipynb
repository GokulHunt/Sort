{
 "cells": [
  {
   "cell_type": "code",
   "execution_count": 1,
   "metadata": {},
   "outputs": [],
   "source": [
    "class Sort:\n",
    "    def mergeSort(self, data):\n",
    "        '''\n",
    "        This function implements merge Sort. It sorts the data breaking it down into sublists of one element each \n",
    "        and then merging them together in sorted fashion.\n",
    "        \n",
    "        On average merge  sort takes linear space and log linear time. \n",
    "        '''\n",
    "        if len(data) == 1:\n",
    "            return data\n",
    "        else:\n",
    "            left, right = data[:int(len(data)/2)], data[int(len(data)/2):]\n",
    "            return self.merge(self.mergeSort(left), self.mergeSort(right))\n",
    "    \n",
    "    def merge(self, left, right):\n",
    "        '''\n",
    "        A helper function that implements the merge operation for merge sort.\n",
    "        '''\n",
    "        out = []\n",
    "        while left != [] and right != []:\n",
    "            if left[0] < right[0]:\n",
    "                out.append(left[0])\n",
    "                left = left[1:]\n",
    "            else:\n",
    "                out.append(right[0])\n",
    "                right = right[1:]\n",
    "        if right:\n",
    "            out.extend(right)\n",
    "        if left:\n",
    "            out.extend(left)\n",
    "        return out"
   ]
  },
  {
   "cell_type": "code",
   "execution_count": 2,
   "metadata": {},
   "outputs": [
    {
     "data": {
      "text/plain": [
       "[1, 2, 4, 5, 8, 10]"
      ]
     },
     "execution_count": 2,
     "metadata": {},
     "output_type": "execute_result"
    }
   ],
   "source": [
    "sort = Sort()\n",
    "sort.mergeSort([1, 8, 10, 4, 2, 5])"
   ]
  },
  {
   "cell_type": "code",
   "execution_count": null,
   "metadata": {},
   "outputs": [],
   "source": []
  }
 ],
 "metadata": {
  "kernelspec": {
   "display_name": "Python 3",
   "language": "python",
   "name": "python3"
  },
  "language_info": {
   "codemirror_mode": {
    "name": "ipython",
    "version": 3
   },
   "file_extension": ".py",
   "mimetype": "text/x-python",
   "name": "python",
   "nbconvert_exporter": "python",
   "pygments_lexer": "ipython3",
   "version": "3.7.4"
  }
 },
 "nbformat": 4,
 "nbformat_minor": 2
}
