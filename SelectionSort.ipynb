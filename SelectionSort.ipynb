{
 "cells": [
  {
   "cell_type": "code",
   "execution_count": 2,
   "metadata": {},
   "outputs": [],
   "source": [
    "class Sort:\n",
    "    '''\n",
    "    This class contains all the common Sorting algorithms.\n",
    "    '''\n",
    "    ##### Quadratic Time Algorithms #####\n",
    "    def selectionSort(self, data):\n",
    "        '''\n",
    "        This function implements Selection Sort. It sorts the data by selecting the lowest value among all values for the\n",
    "        first index and so on.\n",
    "        \n",
    "        On average Selection sort takes constant space and quadratic time. Even if the data is already sorted.\n",
    "        '''\n",
    "        for i in range(len(data)):\n",
    "            k = i\n",
    "            for j in range(i, len(data)):\n",
    "                if data[j] < data[k]:\n",
    "                    k = j\n",
    "            data[i], data[k] = data[k], data[i]\n",
    "        return data\n"
   ]
  },
  {
   "cell_type": "code",
   "execution_count": 3,
   "metadata": {},
   "outputs": [
    {
     "data": {
      "text/plain": [
       "[1, 2, 4, 5, 8, 10, 13, 20, 39]"
      ]
     },
     "execution_count": 3,
     "metadata": {},
     "output_type": "execute_result"
    }
   ],
   "source": [
    "sort = Sort()\n",
    "sort.selectionSort([1, 8, 10, 4, 2, 5, 39, 13, 20])"
   ]
  },
  {
   "cell_type": "code",
   "execution_count": 5,
   "metadata": {},
   "outputs": [
    {
     "data": {
      "text/plain": [
       "[1, 99, 100, 199]"
      ]
     },
     "execution_count": 5,
     "metadata": {},
     "output_type": "execute_result"
    }
   ],
   "source": [
    "sort.selectionSort([1, 100, 199, 99])"
   ]
  },
  {
   "cell_type": "code",
   "execution_count": null,
   "metadata": {},
   "outputs": [],
   "source": []
  }
 ],
 "metadata": {
  "kernelspec": {
   "display_name": "Python 3",
   "language": "python",
   "name": "python3"
  },
  "language_info": {
   "codemirror_mode": {
    "name": "ipython",
    "version": 3
   },
   "file_extension": ".py",
   "mimetype": "text/x-python",
   "name": "python",
   "nbconvert_exporter": "python",
   "pygments_lexer": "ipython3",
   "version": "3.7.4"
  }
 },
 "nbformat": 4,
 "nbformat_minor": 2
}
