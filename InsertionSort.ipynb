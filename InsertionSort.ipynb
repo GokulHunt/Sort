{
 "cells": [
  {
   "cell_type": "code",
   "execution_count": 1,
   "metadata": {},
   "outputs": [],
   "source": [
    "class Sort:\n",
    "    def insertionSort(self, data):\n",
    "        '''\n",
    "        This function implements insertion Sort. It sorts the data by swapping the already seen values to sort them \n",
    "        as we encounter a new value.\n",
    "        \n",
    "        On average insertion sort takes constant space and quadratic time. But if the data is already sorted, or nearly sorted \n",
    "        insertion sort works in linear time.\n",
    "        '''\n",
    "        for i in range(1, len(data)):\n",
    "            j = i - 1\n",
    "            while data[i] < data[j] and j >= 0:\n",
    "                data[j], data[i] = data[i], data[j]\n",
    "                i = j \n",
    "                j = j - 1\n",
    "        return data\n",
    "    "
   ]
  },
  {
   "cell_type": "code",
   "execution_count": 2,
   "metadata": {},
   "outputs": [
    {
     "data": {
      "text/plain": [
       "[1, 2, 4, 5, 8, 10]"
      ]
     },
     "execution_count": 2,
     "metadata": {},
     "output_type": "execute_result"
    }
   ],
   "source": [
    "sort = Sort()\n",
    "sort.insertionSort([1, 8, 10, 4, 2, 5])"
   ]
  },
  {
   "cell_type": "code",
   "execution_count": null,
   "metadata": {},
   "outputs": [],
   "source": []
  }
 ],
 "metadata": {
  "kernelspec": {
   "display_name": "Python 3",
   "language": "python",
   "name": "python3"
  },
  "language_info": {
   "codemirror_mode": {
    "name": "ipython",
    "version": 3
   },
   "file_extension": ".py",
   "mimetype": "text/x-python",
   "name": "python",
   "nbconvert_exporter": "python",
   "pygments_lexer": "ipython3",
   "version": "3.7.4"
  }
 },
 "nbformat": 4,
 "nbformat_minor": 2
}
