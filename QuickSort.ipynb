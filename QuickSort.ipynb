{
 "cells": [
  {
   "cell_type": "code",
   "execution_count": 1,
   "metadata": {},
   "outputs": [],
   "source": [
    "class Sort:\n",
    "    def quickSort(self, data):\n",
    "        '''\n",
    "        This function implements quick Sort. It sorts the data breaking it down into partitions using a particular index as pivot.\n",
    "        \n",
    "        On average quicksort takes linear space and log linear time. If the data is already sorted it will perform in quadratic time.\n",
    "        '''\n",
    "        low, high = 0, len(data) - 1\n",
    "        sortedData = self.helperQuickSort(data, low, high)\n",
    "        return sortedData\n",
    "\n",
    "    def helperQuickSort(self, data, low, high):\n",
    "        '''\n",
    "        An helper function for quick sort\n",
    "        '''\n",
    "        if low < high:\n",
    "            mid = self.partition(data, low, high)\n",
    "            self.helperQuickSort(data, low, mid - 1)\n",
    "            self.helperQuickSort(data, mid + 1, high)\n",
    "        return data\n",
    "    \n",
    "    def partition(self, data, low, high):\n",
    "        '''\n",
    "        This function implements the partition opertion and returns the partition point. \n",
    "        '''\n",
    "        i, j, pivot = low, high, low\n",
    "        while i < j:\n",
    "#             print(i, j, pivot, data, len(data))\n",
    "            while data[i] <= data[pivot]:\n",
    "                i += 1\n",
    "                if i == len(data) - 1:\n",
    "                    break\n",
    "            \n",
    "            while data[j] > data[pivot]:\n",
    "                j -= 1\n",
    "                if j == 0:\n",
    "                    break\n",
    "            \n",
    "            if i < j:\n",
    "                data[i], data[j] = data[j], data[i]\n",
    "        data[pivot], data[j] = data[j], data[pivot]\n",
    "        return j"
   ]
  },
  {
   "cell_type": "code",
   "execution_count": 2,
   "metadata": {},
   "outputs": [
    {
     "data": {
      "text/plain": [
       "[0, 1, 2, 4, 5, 8, 10, 20, 200]"
      ]
     },
     "execution_count": 2,
     "metadata": {},
     "output_type": "execute_result"
    }
   ],
   "source": [
    "sort = Sort()\n",
    "sort.quickSort([1, 8, 10, 4, 2, 5, 20, 0, 200])\n"
   ]
  },
  {
   "cell_type": "code",
   "execution_count": null,
   "metadata": {},
   "outputs": [],
   "source": []
  }
 ],
 "metadata": {
  "kernelspec": {
   "display_name": "Python 3",
   "language": "python",
   "name": "python3"
  },
  "language_info": {
   "codemirror_mode": {
    "name": "ipython",
    "version": 3
   },
   "file_extension": ".py",
   "mimetype": "text/x-python",
   "name": "python",
   "nbconvert_exporter": "python",
   "pygments_lexer": "ipython3",
   "version": "3.7.4"
  }
 },
 "nbformat": 4,
 "nbformat_minor": 2
}
