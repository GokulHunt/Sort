{
 "cells": [
  {
   "cell_type": "code",
   "execution_count": 35,
   "metadata": {},
   "outputs": [],
   "source": [
    "import numpy as np\n",
    "import pandas as pd\n",
    "import matplotlib.pyplot as plt\n",
    "import time\n",
    "import sys\n",
    "sys.setrecursionlimit(10 ** 6) "
   ]
  },
  {
   "cell_type": "code",
   "execution_count": 36,
   "metadata": {},
   "outputs": [],
   "source": [
    "class Sort:\n",
    "    '''\n",
    "    This class contains all the common Sorting algorithms.\n",
    "    '''\n",
    "    ##### Quadratic Time Algorithms #####\n",
    "    \n",
    "    def bubbleSort(self, data):\n",
    "        '''\n",
    "        This function implements Bubble Sort. It sorts the data by swapping the adjacent elements \n",
    "        that are not in correct order.\n",
    "        \n",
    "        On average Bubble sort takes constant space and quadratic time. But if the data is already sorted, \n",
    "        bubble sort works in linear time.\n",
    "        \n",
    "        '''\n",
    "        for i in range(len(data)):\n",
    "            for j in range(1, len(data)):\n",
    "                \n",
    "                if data[j-1] > data[j]:\n",
    "                    data[j-1], data[j] = data[j], data[j-1]\n",
    "        return data\n",
    "    \n",
    "    def selectionSort(self, data):\n",
    "        '''\n",
    "        This function implements Selection Sort. It sorts the data by selecting the lowest value among all values for the\n",
    "        first index and so on.\n",
    "        \n",
    "        On average Selection sort takes constant space and quadratic time. Even if the data is already sorted.\n",
    "        '''\n",
    "        for i in range(len(data)):\n",
    "            k = i\n",
    "            for j in range(i, len(data)):\n",
    "                if data[j] < data[k]:\n",
    "                    k = j\n",
    "            data[i], data[k] = data[k], data[i]\n",
    "        return data\n",
    "    \n",
    "    def insertionSort(self, data):\n",
    "        '''\n",
    "        This function implements insertion Sort. It sorts the data by swapping the already seen values to sort them \n",
    "        as we encounter a new value.\n",
    "        \n",
    "        On average insertion sort takes constant space and quadratic time. But if the data is already sorted, or nearly sorted \n",
    "        insertion sort works in linear time.\n",
    "        '''\n",
    "        for i in range(1, len(data)):\n",
    "            j = i - 1\n",
    "            while data[i] < data[j] and j >= 0:\n",
    "                data[j], data[i] = data[i], data[j]\n",
    "                i = j \n",
    "                j = j - 1\n",
    "        return data\n",
    "    \n",
    "    ##### Log Linear Time Algorithms (Divide and Conquer algorithms)#####\n",
    "    \n",
    "    ## Merge Sort Begins##\n",
    "    def mergeSort(self, data):\n",
    "        '''\n",
    "        This function implements merge Sort. It sorts the data breaking it down into sublists of one element each \n",
    "        and then merging them together in sorted fashion.\n",
    "        \n",
    "        On average merge  sort takes linear space and log linear time. \n",
    "        '''\n",
    "        if len(data) == 1:\n",
    "            return data\n",
    "        else:\n",
    "            left, right = data[:int(len(data)/2)], data[int(len(data)/2):]\n",
    "            return self.merge(self.mergeSort(left), self.mergeSort(right))\n",
    "    \n",
    "    def merge(self, left, right):\n",
    "        '''\n",
    "        A helper function that implements the merge operation for merge sort.\n",
    "        '''\n",
    "        out = []\n",
    "        while left != [] and right != []:\n",
    "            if left[0] < right[0]:\n",
    "                out.append(left[0])\n",
    "                left = left[1:]\n",
    "            else:\n",
    "                out.append(right[0])\n",
    "                right = right[1:]\n",
    "        if right:\n",
    "            out.extend(right)\n",
    "        if left:\n",
    "            out.extend(left)\n",
    "        return out\n",
    "    \n",
    "    ## Merge Sort Ends##\n",
    "    \n",
    "    ## Quick Sort Begins ##\n",
    "    \n",
    "    def quickSort(self, data):\n",
    "        '''\n",
    "        This function implements quick Sort. It sorts the data breaking it down into partitions using a particular index as pivot.\n",
    "        \n",
    "        On average quicksort takes linear space and log linear time. If the data is already sorted it will perform in quadratic time.\n",
    "        '''\n",
    "        low, high = 0, len(data) - 1\n",
    "        sortedData = self.helperQuickSort(data, low, high)\n",
    "        return sortedData\n",
    "\n",
    "    def helperQuickSort(self, data, low, high):\n",
    "        '''\n",
    "        An helper function for quick sort\n",
    "        '''\n",
    "        if low < high:\n",
    "            mid = self.partition(data, low, high)\n",
    "            self.helperQuickSort(data, low, mid - 1)\n",
    "            self.helperQuickSort(data, mid + 1, high)\n",
    "        return data\n",
    "    \n",
    "    def partition(self, data, low, high):\n",
    "        '''\n",
    "        This function implements the partition opertion and returns the partition point. \n",
    "        '''\n",
    "        i, j, pivot = low, high, low\n",
    "        while i < j:\n",
    "#             print(i, j, pivot, data, len(data))\n",
    "            while data[i] <= data[pivot]:\n",
    "                i += 1\n",
    "                if i == len(data) - 1:\n",
    "                    break\n",
    "            \n",
    "            while data[j] > data[pivot]:\n",
    "                j -= 1\n",
    "                if j == 0:\n",
    "                    break\n",
    "            \n",
    "            if i < j:\n",
    "                data[i], data[j] = data[j], data[i]\n",
    "        data[pivot], data[j] = data[j], data[pivot]\n",
    "        return j\n",
    "     ## Quick Sort Ends ##\n",
    "    "
   ]
  },
  {
   "cell_type": "markdown",
   "metadata": {},
   "source": [
    "#### Testing with simple data "
   ]
  },
  {
   "cell_type": "code",
   "execution_count": 37,
   "metadata": {},
   "outputs": [
    {
     "data": {
      "text/plain": [
       "[1, 2, 4, 5, 8, 10]"
      ]
     },
     "execution_count": 37,
     "metadata": {},
     "output_type": "execute_result"
    }
   ],
   "source": [
    "sort = Sort()\n",
    "sort.bubbleSort([1, 8, 10, 4, 2, 5])"
   ]
  },
  {
   "cell_type": "code",
   "execution_count": 38,
   "metadata": {},
   "outputs": [
    {
     "data": {
      "text/plain": [
       "[1, 2, 4, 5, 8, 10]"
      ]
     },
     "execution_count": 38,
     "metadata": {},
     "output_type": "execute_result"
    }
   ],
   "source": [
    "sort.selectionSort([1, 8, 10, 4, 2, 5])"
   ]
  },
  {
   "cell_type": "code",
   "execution_count": 39,
   "metadata": {},
   "outputs": [
    {
     "data": {
      "text/plain": [
       "[1, 2, 4, 5, 8, 10]"
      ]
     },
     "execution_count": 39,
     "metadata": {},
     "output_type": "execute_result"
    }
   ],
   "source": [
    "sort.insertionSort([1, 8, 10, 4, 2, 5])"
   ]
  },
  {
   "cell_type": "code",
   "execution_count": 40,
   "metadata": {},
   "outputs": [
    {
     "data": {
      "text/plain": [
       "[1, 2, 4, 5, 8, 10]"
      ]
     },
     "execution_count": 40,
     "metadata": {},
     "output_type": "execute_result"
    }
   ],
   "source": [
    "sort.mergeSort([1, 8, 10, 4, 2, 5])"
   ]
  },
  {
   "cell_type": "code",
   "execution_count": 41,
   "metadata": {},
   "outputs": [
    {
     "data": {
      "text/plain": [
       "[1, 2, 4, 5, 8, 10]"
      ]
     },
     "execution_count": 41,
     "metadata": {},
     "output_type": "execute_result"
    }
   ],
   "source": [
    "sort.quickSort([1, 8, 10, 4, 2, 5])"
   ]
  },
  {
   "cell_type": "markdown",
   "metadata": {},
   "source": [
    "#### Creating the same randomly generated data for each sort"
   ]
  },
  {
   "cell_type": "code",
   "execution_count": 42,
   "metadata": {},
   "outputs": [],
   "source": [
    "timeDict = {'BubbleSort' : [],\n",
    "           'SelectionSort' : [],\n",
    "           'InsertionSort' : [],\n",
    "           'MergeSort' : [],\n",
    "           'QuickSort' : []}\n",
    "\n",
    "functionDict = {'BubbleSort' : sort.bubbleSort,\n",
    "           'SelectionSort' : sort.selectionSort,\n",
    "           'InsertionSort' : sort.insertionSort,\n",
    "           'MergeSort' : sort.mergeSort,\n",
    "           'QuickSort' : sort.quickSort}"
   ]
  },
  {
   "cell_type": "code",
   "execution_count": 43,
   "metadata": {},
   "outputs": [],
   "source": [
    "for i in range(5):\n",
    "    sizes = [100, 500, 1000, 5000, 10000]\n",
    "    if i < 5:\n",
    "        ## taking in random data ##\n",
    "        for key in functionDict.keys():\n",
    "            start = time.time()\n",
    "            np.random.seed(0)\n",
    "            random = np.random.randint(0, 1000, sizes[i]).tolist()\n",
    "            out = functionDict[key](random)\n",
    "            end = time.time()\n",
    "            timeDict[key].append(round(end - start, 4))\n",
    "\n",
    "        "
   ]
  },
  {
   "cell_type": "code",
   "execution_count": 44,
   "metadata": {},
   "outputs": [],
   "source": [
    "timeDict['Size'] = [100, 500, 1000, 5000, 10000]"
   ]
  },
  {
   "cell_type": "code",
   "execution_count": 45,
   "metadata": {},
   "outputs": [
    {
     "data": {
      "text/plain": [
       "{'BubbleSort': [0.0, 0.0157, 0.1085, 2.4325, 10.0397],\n",
       " 'SelectionSort': [0.0, 0.0156, 0.0239, 0.6517, 2.4662],\n",
       " 'InsertionSort': [0.0, 0.0, 0.0339, 0.9052, 5.0375],\n",
       " 'MergeSort': [0.0, 0.0, 0.004, 0.0429, 0.1421],\n",
       " 'QuickSort': [0.0, 0.0, 0.003, 0.017, 0.0469],\n",
       " 'Size': [100, 500, 1000, 5000, 10000]}"
      ]
     },
     "execution_count": 45,
     "metadata": {},
     "output_type": "execute_result"
    }
   ],
   "source": [
    "timeDict"
   ]
  },
  {
   "cell_type": "code",
   "execution_count": 46,
   "metadata": {},
   "outputs": [],
   "source": [
    "timeDF = pd.DataFrame.from_dict(timeDict).set_index('Size')"
   ]
  },
  {
   "cell_type": "code",
   "execution_count": 47,
   "metadata": {},
   "outputs": [
    {
     "data": {
      "text/html": [
       "<div>\n",
       "<style scoped>\n",
       "    .dataframe tbody tr th:only-of-type {\n",
       "        vertical-align: middle;\n",
       "    }\n",
       "\n",
       "    .dataframe tbody tr th {\n",
       "        vertical-align: top;\n",
       "    }\n",
       "\n",
       "    .dataframe thead th {\n",
       "        text-align: right;\n",
       "    }\n",
       "</style>\n",
       "<table border=\"1\" class=\"dataframe\">\n",
       "  <thead>\n",
       "    <tr style=\"text-align: right;\">\n",
       "      <th></th>\n",
       "      <th>BubbleSort</th>\n",
       "      <th>SelectionSort</th>\n",
       "      <th>InsertionSort</th>\n",
       "      <th>MergeSort</th>\n",
       "      <th>QuickSort</th>\n",
       "    </tr>\n",
       "    <tr>\n",
       "      <th>Size</th>\n",
       "      <th></th>\n",
       "      <th></th>\n",
       "      <th></th>\n",
       "      <th></th>\n",
       "      <th></th>\n",
       "    </tr>\n",
       "  </thead>\n",
       "  <tbody>\n",
       "    <tr>\n",
       "      <th>100</th>\n",
       "      <td>0.0000</td>\n",
       "      <td>0.0000</td>\n",
       "      <td>0.0000</td>\n",
       "      <td>0.0000</td>\n",
       "      <td>0.0000</td>\n",
       "    </tr>\n",
       "    <tr>\n",
       "      <th>500</th>\n",
       "      <td>0.0157</td>\n",
       "      <td>0.0156</td>\n",
       "      <td>0.0000</td>\n",
       "      <td>0.0000</td>\n",
       "      <td>0.0000</td>\n",
       "    </tr>\n",
       "    <tr>\n",
       "      <th>1000</th>\n",
       "      <td>0.1085</td>\n",
       "      <td>0.0239</td>\n",
       "      <td>0.0339</td>\n",
       "      <td>0.0040</td>\n",
       "      <td>0.0030</td>\n",
       "    </tr>\n",
       "    <tr>\n",
       "      <th>5000</th>\n",
       "      <td>2.4325</td>\n",
       "      <td>0.6517</td>\n",
       "      <td>0.9052</td>\n",
       "      <td>0.0429</td>\n",
       "      <td>0.0170</td>\n",
       "    </tr>\n",
       "    <tr>\n",
       "      <th>10000</th>\n",
       "      <td>10.0397</td>\n",
       "      <td>2.4662</td>\n",
       "      <td>5.0375</td>\n",
       "      <td>0.1421</td>\n",
       "      <td>0.0469</td>\n",
       "    </tr>\n",
       "  </tbody>\n",
       "</table>\n",
       "</div>"
      ],
      "text/plain": [
       "       BubbleSort  SelectionSort  InsertionSort  MergeSort  QuickSort\n",
       "Size                                                                 \n",
       "100        0.0000         0.0000         0.0000     0.0000     0.0000\n",
       "500        0.0157         0.0156         0.0000     0.0000     0.0000\n",
       "1000       0.1085         0.0239         0.0339     0.0040     0.0030\n",
       "5000       2.4325         0.6517         0.9052     0.0429     0.0170\n",
       "10000     10.0397         2.4662         5.0375     0.1421     0.0469"
      ]
     },
     "execution_count": 47,
     "metadata": {},
     "output_type": "execute_result"
    }
   ],
   "source": [
    "timeDF.head()"
   ]
  },
  {
   "cell_type": "code",
   "execution_count": 48,
   "metadata": {},
   "outputs": [
    {
     "data": {
      "text/plain": [
       "<matplotlib.axes._subplots.AxesSubplot at 0x1454eb3d358>"
      ]
     },
     "execution_count": 48,
     "metadata": {},
     "output_type": "execute_result"
    },
    {
     "data": {
      "image/png": "[encoded data removed]",
      "text/plain": [
       "<Figure size 720x720 with 1 Axes>"
      ]
     },
     "metadata": {},
     "output_type": "display_data"
    }
   ],
   "source": [
    "timeDF.plot(figsize = [10, 10])"
   ]
  },
  {
   "cell_type": "code",
   "execution_count": null,
   "metadata": {},
   "outputs": [],
   "source": []
  }
 ],
 "metadata": {
  "kernelspec": {
   "display_name": "Python 3",
   "language": "python",
   "name": "python3"
  },
  "language_info": {
   "codemirror_mode": {
    "name": "ipython",
    "version": 3
   },
   "file_extension": ".py",
   "mimetype": "text/x-python",
   "name": "python",
   "nbconvert_exporter": "python",
   "pygments_lexer": "ipython3",
   "version": "3.7.4"
  }
 },
 "nbformat": 4,
 "nbformat_minor": 2
}
